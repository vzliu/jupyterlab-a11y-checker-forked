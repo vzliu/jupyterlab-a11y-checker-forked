{
 "cells": [
  {
   "cell_type": "markdown",
   "id": "1bee8719-9e54-4261-acad-1450e76a9b0d",
   "metadata": {},
   "source": [
    "![hi](graphIssues1.png)"
   ]
  },
  {
   "cell_type": "markdown",
   "id": "a9dd919b-c788-4898-8f78-bc652ceee089",
   "metadata": {},
   "source": [
    "![hi](graphIssues2.jpeg)"
   ]
  },
  {
   "cell_type": "markdown",
   "id": "2f18ada6-1ca7-4b2b-9709-2bb79f88eeaf",
   "metadata": {},
   "source": [
    "[hi](graphIssues3.png)"
   ]
  },
  {
   "cell_type": "code",
   "execution_count": 1,
   "id": "03f2a4c6-8f8c-4cb3-a6ce-3f8b93adc9c0",
   "metadata": {},
   "outputs": [],
   "source": [
    "# import matplotlib.pyplot as plt\n",
    "# import numpy as np\n",
    "\n",
    "# # Data\n",
    "# x = np.linspace(0, 10, 100)\n",
    "# y1 = np.sin(x)\n",
    "# y2 = np.cos(x)\n",
    "\n",
    "# # Create plot\n",
    "# plt.figure(figsize=(8, 6))\n",
    "\n",
    "# # Sine curve with poor color contrast and poor transparency\n",
    "# plt.plot(x, y1, label='Sine', color='lightgrey', alpha=0.2)\n",
    "\n",
    "# # Cosine curve with poor color contrast\n",
    "# plt.plot(x, y2, label='Cosine', color='yellow')\n",
    "\n",
    "# # Unstructured header (just a plain text, no structure)\n",
    "# plt.text(2, 1, 'A Graph', fontsize=20, color='black')\n",
    "\n",
    "# # X-axis label\n",
    "# plt.xlabel('X-axis')\n",
    "\n",
    "# # Y-axis label\n",
    "# plt.ylabel('Y-axis')\n",
    "\n",
    "# # No title\n",
    "\n",
    "# # No legend added\n",
    "# # plt.legend()\n",
    "\n",
    "# # Display the plot\n",
    "# plt.show()"
   ]
  }
 ],
 "metadata": {
  "kernelspec": {
   "display_name": "Python 3 (ipykernel)",
   "language": "python",
   "name": "python3"
  },
  "language_info": {
   "codemirror_mode": {
    "name": "ipython",
    "version": 3
   },
   "file_extension": ".py",
   "mimetype": "text/x-python",
   "name": "python",
   "nbconvert_exporter": "python",
   "pygments_lexer": "ipython3",
   "version": "3.12.1"
  }
 },
 "nbformat": 4,
 "nbformat_minor": 5
}
