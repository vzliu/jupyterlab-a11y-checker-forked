{
 "cells": [
  {
   "cell_type": "markdown",
   "id": "700545c8-00f4-4daa-b1e1-863f4d3f8137",
   "metadata": {},
   "source": [
    "## heading 2"
   ]
  },
  {
   "cell_type": "markdown",
   "id": "e9f6fdca-e340-4c49-a800-dd5eae87226f",
   "metadata": {},
   "source": [
    "#### heading 4\n",
    "\n",
    "Issue: Cannot decrease by more than 1 header level"
   ]
  },
  {
   "cell_type": "markdown",
   "id": "24285316-a748-42a6-a81d-3ffc0c362478",
   "metadata": {},
   "source": [
    "## heading 2\n",
    "\n",
    "paragraph\n",
    "paragraph\n",
    "paragraph"
   ]
  },
  {
   "cell_type": "markdown",
   "id": "c18a1534-b3d6-462e-a0c9-360f43c598ad",
   "metadata": {},
   "source": [
    "<h4>heading 4 (html)</h4>\n",
    "\n",
    "Issue: Cannot decrease by more than 1 header level"
   ]
  },
  {
   "cell_type": "markdown",
   "id": "cdf6e4be-056f-4ad4-8f6d-8806ffd7d316",
   "metadata": {},
   "source": [
    "### heading 3"
   ]
  },
  {
   "cell_type": "markdown",
   "id": "0d845711-31a3-4572-b541-69525b8856ab",
   "metadata": {},
   "source": [
    "### heading 3"
   ]
  },
  {
   "cell_type": "markdown",
   "id": "70bcfbe7-fba0-41e6-8357-cd692547dafa",
   "metadata": {},
   "source": [
    "# heading 1\n",
    "\n",
    "Issue: heading cannot be a higher level than first heading"
   ]
  }
 ],
 "metadata": {
  "kernelspec": {
   "display_name": "Python 3 (ipykernel)",
   "language": "python",
   "name": "python3"
  },
  "language_info": {
   "codemirror_mode": {
    "name": "ipython",
    "version": 3
   },
   "file_extension": ".py",
   "mimetype": "text/x-python",
   "name": "python",
   "nbconvert_exporter": "python",
   "pygments_lexer": "ipython3",
   "version": "3.11.9"
  }
 },
 "nbformat": 4,
 "nbformat_minor": 5
}
