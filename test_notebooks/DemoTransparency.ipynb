{
 "cells": [
  {
   "cell_type": "markdown",
   "id": "13798185-b7f1-4486-8798-0e2aa7d618e3",
   "metadata": {},
   "source": [
    "![fs](testLocalImageTransp.png)"
   ]
  },
  {
   "cell_type": "markdown",
   "id": "84ee0a73-d7af-4093-bf11-c7b27c305f31",
   "metadata": {},
   "source": [
    "<img alt=\"d\" src=\"https://upload.wikimedia.org/wikipedia/commons/thumb/4/47/PNG_transparency_demonstration_1.png/640px-PNG_transparency_demonstration_1.png\"></img>"
   ]
  }
 ],
 "metadata": {
  "kernelspec": {
   "display_name": "Python 3 (ipykernel)",
   "language": "python",
   "name": "python3"
  },
  "language_info": {
   "codemirror_mode": {
    "name": "ipython",
    "version": 3
   },
   "file_extension": ".py",
   "mimetype": "text/x-python",
   "name": "python",
   "nbconvert_exporter": "python",
   "pygments_lexer": "ipython3",
   "version": "3.11.9"
  }
 },
 "nbformat": 4,
 "nbformat_minor": 5
}
