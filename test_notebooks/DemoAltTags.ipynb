{
 "cells": [
  {
   "cell_type": "markdown",
   "id": "c11915b4-ae55-4d58-bfad-c9b9485cccd9",
   "metadata": {
    "editable": true,
    "slideshow": {
     "slide_type": ""
    },
    "tags": []
   },
   "source": [
    "img with missing alt tag in markdown\n",
    "\n",
    "![](https://i5.walmartimages.com/seo/Tzicr-Modern-Velvet-Home-Office-Chair-Upholstered-Chairs-with-360-Swivel-Armchair-and-Gold-Base-for-Living-Room-Bedroom-Vanity-Study-Beige_6536f77a-49dd-44b0-82e0-3baf61fdae01.7e36947377a7a46b6313b3bd412c092e.jpeg)"
   ]
  },
  {
   "cell_type": "markdown",
   "id": "54584998-0b65-4a57-9d7d-1092a46139ed",
   "metadata": {},
   "source": [
    "local image in markdown with alt tag   \n",
    "\n",
    "![camera](testLocalImage.png)"
   ]
  },
  {
   "cell_type": "markdown",
   "id": "2c927fea-c7ff-45ed-abb3-47dd5b2fd026",
   "metadata": {},
   "source": [
    "transparent with alt tag html\n",
    "\n",
    "<img alt=\"\" src=\"https://upload.wikimedia.org/wikipedia/commons/thumb/4/47/PNG_transparency_demonstration_1.png/640px-PNG_transparency_demonstration_1.png\"></img>"
   ]
  }
 ],
 "metadata": {
  "kernelspec": {
   "display_name": "Python 3 (ipykernel)",
   "language": "python",
   "name": "python3"
  },
  "language_info": {
   "codemirror_mode": {
    "name": "ipython",
    "version": 3
   },
   "file_extension": ".py",
   "mimetype": "text/x-python",
   "name": "python",
   "nbconvert_exporter": "python",
   "pygments_lexer": "ipython3",
   "version": "3.11.9"
  }
 },
 "nbformat": 4,
 "nbformat_minor": 5
}
