{
 "cells": [
  {
   "cell_type": "code",
   "execution_count": 4,
   "id": "27a9f924-6e0b-4ca5-8bba-a2af2dfbddd8",
   "metadata": {
    "editable": true,
    "slideshow": {
     "slide_type": ""
    },
    "tags": []
   },
   "outputs": [],
   "source": [
    "import matplotlib.pyplot as plt\n",
    "import numpy as np"
   ]
  },
  {
   "cell_type": "code",
   "execution_count": 5,
   "id": "1c942d13-fafc-4c2b-b31f-7b0df5cddfb8",
   "metadata": {
    "editable": true,
    "slideshow": {
     "slide_type": ""
    },
    "tags": []
   },
   "outputs": [
    {
     "name": "stdout",
     "output_type": "stream",
     "text": [
      "hello there\n"
     ]
    }
   ],
   "source": [
    "print(\"hello there\")"
   ]
  },
  {
   "cell_type": "markdown",
   "id": "abf91581-f1ad-4368-bc1a-6e3f8ca0898e",
   "metadata": {},
   "source": [
    "---CELL BEGIN---\n",
    "\n",
    "You can do anything at https://html5zombo.com\n",
    "\n",
    "---CELL END---"
   ]
  },
  {
   "cell_type": "code",
   "execution_count": 6,
   "id": "59e3e440-45c1-435d-a612-1e149bd86910",
   "metadata": {
    "editable": true,
    "slideshow": {
     "slide_type": ""
    },
    "tags": []
   },
   "outputs": [
    {
     "name": "stdout",
     "output_type": "stream",
     "text": [
      "hello there\n"
     ]
    },
    {
     "data": {
      "image/png": "[encoded data removed]",
      "text/plain": [
       "<Figure size 800x600 with 1 Axes>"
      ]
     },
     "metadata": {},
     "output_type": "display_data"
    }
   ],
   "source": [
    "import matplotlib.pyplot as plt\n",
    "import numpy as np\n",
    "\n",
    "print(\"hello there\")\n",
    "\n",
    "x = [1, 2, 3, 4, 5]\n",
    "y = [1, 4, 9, 16, 25]\n",
    "plt.figure(figsize=(8, 6))\n",
    "plt.plot(x, y)\n",
    "plt.gcf().patch.set_alpha(1.0) # change these values to < 1.0 for transparency in different parts of the graph\n",
    "plt.gca().patch.set_alpha(1.0) # change these values to < 1.0 for transparency in different parts of the graph\n",
    "plt.show()"
   ]
  },
  {
   "attachments": {},
   "cell_type": "markdown",
   "id": "acd43991-a8d7-4983-b51f-b873b30e968b",
   "metadata": {
    "editable": true,
    "slideshow": {
     "slide_type": ""
    },
    "tags": []
   },
   "source": [
    "img with missing alt tag in markdown\n",
    "\n",
    "![](https://i5.walmartimages.com/seo/Tzicr-Modern-Velvet-Home-Office-Chair-Upholstered-Chairs-with-360-Swivel-Armchair-and-Gold-Base-for-Living-Room-Bedroom-Vanity-Study-Beige_6536f77a-49dd-44b0-82e0-3baf61fdae01.7e36947377a7a46b6313b3bd412c092e.jpeg)"
   ]
  },
  {
   "cell_type": "markdown",
   "id": "c7472a21-64c2-4497-8da9-6346b639da9d",
   "metadata": {},
   "source": [
    "local image in markdown with alt tag   \n",
    "\n",
    "![sds](testLocalImage.png)"
   ]
  },
  {
   "cell_type": "markdown",
   "id": "5a6c5a8d-df6f-4e16-b719-f2c33bd421ff",
   "metadata": {},
   "source": [
    "local transparent image in markdown without alt tag\n",
    "\n",
    "![h](testLocalImageTransp.png)"
   ]
  },
  {
   "cell_type": "markdown",
   "id": "e8a1561d-6a34-4407-8dcd-f88d65bc5649",
   "metadata": {},
   "source": [
    "transparent with alt tag html\n",
    "\n",
    "<img alt=\"d\" src=\"https://upload.wikimedia.org/wikipedia/commons/thumb/4/47/PNG_transparency_demonstration_1.png/640px-PNG_transparency_demonstration_1.png\"></img>"
   ]
  },
  {
   "cell_type": "markdown",
   "id": "75f7b70b-1a03-4d5a-9a88-14dd4872bb4b",
   "metadata": {},
   "source": [
    "imgs without alt tag html\n",
    "\n",
    "![h](testLocalImage.png)\n",
    "\n",
    "<img alt=\"\" src=\"https://i5.walmartimages.com/seo/Tzicr-Modern-Velvet-Home-Office-Chair-Upholstered-Chairs-with-360-Swivel-Armchair-and-Gold-Base-for-Living-Room-Bedroom-Vanity-Study-Beige_6536f77a-49dd-44b0-82e0-3baf61fdae01.7e36947377a7a46b6313b3bd412c092e.jpeg\"></img>"
   ]
  },
  {
   "cell_type": "markdown",
   "id": "89031092-2561-44b9-9b01-4d69445b2802",
   "metadata": {},
   "source": [
    "### heading 3"
   ]
  },
  {
   "cell_type": "markdown",
   "id": "a4923e7d-c548-43e8-9af6-75d1bda27314",
   "metadata": {},
   "source": [
    "#### heading 4"
   ]
  },
  {
   "cell_type": "markdown",
   "id": "1282f139-5580-435e-83fa-e0ec1cea1efd",
   "metadata": {},
   "source": [
    "## heading 2\n",
    "\n",
    "paragraph\n",
    "paragraph\n",
    "paragraph"
   ]
  },
  {
   "cell_type": "markdown",
   "id": "80b58b7d-747e-4275-b5f3-92ddf6ea7e1c",
   "metadata": {},
   "source": [
    "#### heading 4\n",
    "\n",
    "another paragraph"
   ]
  },
  {
   "cell_type": "markdown",
   "id": "665980c8-5c82-40b6-8bb0-53308980ff89",
   "metadata": {},
   "source": [
    "### heading 3"
   ]
  },
  {
   "cell_type": "markdown",
   "id": "3360305c-ad8e-491c-93b4-8d4abf2afe10",
   "metadata": {},
   "source": [
    "### heading 3"
   ]
  },
  {
   "cell_type": "markdown",
   "id": "a9838dde-9edf-4f19-852f-c0926018922f",
   "metadata": {},
   "source": [
    "### heading 3"
   ]
  }
 ],
 "metadata": {
  "kernelspec": {
   "display_name": "Python 3 (ipykernel)",
   "language": "python",
   "name": "python3"
  },
  "language_info": {
   "codemirror_mode": {
    "name": "ipython",
    "version": 3
   },
   "file_extension": ".py",
   "mimetype": "text/x-python",
   "name": "python",
   "nbconvert_exporter": "python",
   "pygments_lexer": "ipython3",
   "version": "3.11.9"
  }
 },
 "nbformat": 4,
 "nbformat_minor": 5
}
